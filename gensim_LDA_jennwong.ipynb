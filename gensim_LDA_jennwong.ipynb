{
 "cells": [
  {
   "cell_type": "markdown",
   "metadata": {},
   "source": [
    "# Topic Modeling with gensim and LDA"
   ]
  },
  {
   "cell_type": "code",
   "execution_count": 45,
   "metadata": {
    "ExecuteTime": {
     "end_time": "2018-08-21T21:45:16.963136Z",
     "start_time": "2018-08-21T21:45:16.940337Z"
    }
   },
   "outputs": [],
   "source": [
    "from glob import glob\n",
    "import pandas as pd\n",
    "\n",
    "\n",
    "# gensim\n",
    "from gensim import corpora, models, similarities, matutils\n",
    "# sklearn\n",
    "from sklearn import datasets\n",
    "from sklearn.feature_extraction.text import CountVectorizer\n",
    "from sklearn.cluster import KMeans\n",
    "# logging for gensim (set to INFO)\n",
    "import logging\n",
    "logging.basicConfig(format='%(asctime)s : %(levelname)s : %(message)s', level=logging.INFO)"
   ]
  },
  {
   "cell_type": "code",
   "execution_count": null,
   "metadata": {
    "collapsed": true
   },
   "outputs": [],
   "source": []
  },
  {
   "cell_type": "code",
   "execution_count": 46,
   "metadata": {
    "ExecuteTime": {
     "end_time": "2018-08-21T21:45:19.802171Z",
     "start_time": "2018-08-21T21:45:19.547474Z"
    }
   },
   "outputs": [
    {
     "data": {
      "text/plain": [
       "17761"
      ]
     },
     "execution_count": 46,
     "metadata": {},
     "output_type": "execute_result"
    }
   ],
   "source": [
    "path_names = glob('Lyrics_folder_818/*.pkl')\n",
    "len(path_names)"
   ]
  },
  {
   "cell_type": "code",
   "execution_count": 16,
   "metadata": {
    "ExecuteTime": {
     "end_time": "2018-08-21T15:01:11.903701Z",
     "start_time": "2018-08-21T15:00:27.588257Z"
    },
    "collapsed": true
   },
   "outputs": [],
   "source": [
    "song_df = pd.DataFrame()\n",
    "for path in path_names[:]:\n",
    "    df = pd.DataFrame.from_dict([pd.read_pickle(str(path))])\n",
    "    song_df = song_df.append(df)\n",
    "    #break"
   ]
  },
  {
   "cell_type": "code",
   "execution_count": 18,
   "metadata": {
    "ExecuteTime": {
     "end_time": "2018-08-21T15:01:13.073003Z",
     "start_time": "2018-08-21T15:01:13.006346Z"
    },
    "collapsed": true
   },
   "outputs": [],
   "source": [
    "pd.to_pickle(song_df, 'gensim_LDA_data.pkl')"
   ]
  },
  {
   "cell_type": "code",
   "execution_count": 47,
   "metadata": {
    "ExecuteTime": {
     "end_time": "2018-08-21T21:45:30.152565Z",
     "start_time": "2018-08-21T21:45:29.988922Z"
    },
    "collapsed": true
   },
   "outputs": [],
   "source": [
    "song_df = pd.read_pickle('gensim_LDA_data.pkl')"
   ]
  },
  {
   "cell_type": "code",
   "execution_count": 41,
   "metadata": {
    "ExecuteTime": {
     "end_time": "2018-08-21T15:09:00.285609Z",
     "start_time": "2018-08-21T15:09:00.275959Z"
    },
    "collapsed": true
   },
   "outputs": [],
   "source": [
    "# k cool, let me grab the text from the dataframe, and put that into a list of documents so that i can use that for my corpus\n",
    "\n",
    "#BUT WAIT CAN'T I JUST GET THE CORPUS FROM THE GOOGLE THINGY\n",
    "\n",
    "text_data = song_df.lyrics.copy(deep = True)"
   ]
  },
  {
   "cell_type": "code",
   "execution_count": 42,
   "metadata": {
    "ExecuteTime": {
     "end_time": "2018-08-21T15:09:00.826185Z",
     "start_time": "2018-08-21T15:09:00.816165Z"
    },
    "collapsed": true
   },
   "outputs": [],
   "source": [
    "text_data = song_df.lyrics.copy(deep = True)\n",
    "corpus = song_df['lyrics'].astype(str).values.tolist()"
   ]
  },
  {
   "cell_type": "code",
   "execution_count": null,
   "metadata": {
    "ExecuteTime": {
     "end_time": "2018-08-21T15:05:03.749581Z",
     "start_time": "2018-08-21T15:05:03.743768Z"
    },
    "collapsed": true
   },
   "outputs": [],
   "source": []
  },
  {
   "cell_type": "code",
   "execution_count": null,
   "metadata": {
    "collapsed": true
   },
   "outputs": [],
   "source": []
  },
  {
   "cell_type": "code",
   "execution_count": null,
   "metadata": {
    "collapsed": true
   },
   "outputs": [],
   "source": []
  },
  {
   "cell_type": "code",
   "execution_count": 43,
   "metadata": {
    "ExecuteTime": {
     "end_time": "2018-08-21T15:09:12.541815Z",
     "start_time": "2018-08-21T15:09:04.464977Z"
    },
    "collapsed": true
   },
   "outputs": [],
   "source": [
    "\n",
    "# Create a CountVectorizer for parsing/counting words# Creat \n",
    "count_vectorizer = CountVectorizer(ngram_range=(1, 2),  \n",
    "                                   stop_words='english', token_pattern=\"\\\\b[a-z][a-z]+\\\\b\")\n",
    "corpus = count_vectorizer.fit_transform(corpus)"
   ]
  },
  {
   "cell_type": "code",
   "execution_count": 44,
   "metadata": {
    "ExecuteTime": {
     "end_time": "2018-08-21T15:09:24.405083Z",
     "start_time": "2018-08-21T15:09:24.398061Z"
    }
   },
   "outputs": [
    {
     "data": {
      "text/plain": [
       "(17761, 778728)"
      ]
     },
     "execution_count": 44,
     "metadata": {},
     "output_type": "execute_result"
    }
   ],
   "source": [
    "corpus.shape"
   ]
  },
  {
   "cell_type": "code",
   "execution_count": 30,
   "metadata": {
    "ExecuteTime": {
     "end_time": "2018-08-21T15:06:53.142573Z",
     "start_time": "2018-08-21T15:06:53.002011Z"
    },
    "collapsed": true
   },
   "outputs": [],
   "source": [
    "\n",
    "# Convert sparse matrix of counts to a gensim corpus# Conve \n",
    "corpus = matutils.Sparse2Corpus(corpus)"
   ]
  },
  {
   "cell_type": "code",
   "execution_count": 37,
   "metadata": {
    "ExecuteTime": {
     "end_time": "2018-08-21T15:08:11.551296Z",
     "start_time": "2018-08-21T15:08:11.362946Z"
    },
    "collapsed": true
   },
   "outputs": [],
   "source": [
    "id2word  =  {  identifier: word for word, identifier in count_vectorizer.vocabulary_.items()}"
   ]
  },
  {
   "cell_type": "code",
   "execution_count": 38,
   "metadata": {
    "ExecuteTime": {
     "end_time": "2018-08-21T15:08:21.884795Z",
     "start_time": "2018-08-21T15:08:21.879152Z"
    }
   },
   "outputs": [
    {
     "data": {
      "text/plain": [
       "778728"
      ]
     },
     "execution_count": 38,
     "metadata": {},
     "output_type": "execute_result"
    }
   ],
   "source": [
    "len(id2word)"
   ]
  },
  {
   "cell_type": "code",
   "execution_count": null,
   "metadata": {
    "collapsed": true
   },
   "outputs": [],
   "source": []
  }
 ],
 "metadata": {
  "kernelspec": {
   "display_name": "Python 3",
   "language": "python",
   "name": "python3"
  },
  "language_info": {
   "codemirror_mode": {
    "name": "ipython",
    "version": 3
   },
   "file_extension": ".py",
   "mimetype": "text/x-python",
   "name": "python",
   "nbconvert_exporter": "python",
   "pygments_lexer": "ipython3",
   "version": "3.6.3"
  },
  "varInspector": {
   "cols": {
    "lenName": 16,
    "lenType": 16,
    "lenVar": 40
   },
   "kernels_config": {
    "python": {
     "delete_cmd_postfix": "",
     "delete_cmd_prefix": "del ",
     "library": "var_list.py",
     "varRefreshCmd": "print(var_dic_list())"
    },
    "r": {
     "delete_cmd_postfix": ") ",
     "delete_cmd_prefix": "rm(",
     "library": "var_list.r",
     "varRefreshCmd": "cat(var_dic_list()) "
    }
   },
   "types_to_exclude": [
    "module",
    "function",
    "builtin_function_or_method",
    "instance",
    "_Feature"
   ],
   "window_display": false
  }
 },
 "nbformat": 4,
 "nbformat_minor": 2
}
