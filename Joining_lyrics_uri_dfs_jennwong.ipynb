{
 "cells": [
  {
   "cell_type": "markdown",
   "metadata": {},
   "source": [
    "# Trying to find a way to merge my two dataframes why dear god omg"
   ]
  },
  {
   "cell_type": "code",
   "execution_count": 6,
   "metadata": {
    "ExecuteTime": {
     "end_time": "2018-08-21T19:29:18.847732Z",
     "start_time": "2018-08-21T19:29:18.841775Z"
    },
    "collapsed": true
   },
   "outputs": [],
   "source": [
    "import pandas as pd\n",
    "from glob import glob"
   ]
  },
  {
   "cell_type": "markdown",
   "metadata": {},
   "source": [
    "Hey Jennifer, you processed the song names when you grabbed the lyrics data. That means you have to process the song names for the uri to have a common column to merge on. Here are all the things that you did to the song names\n",
    "\n",
    "import string\n",
    "\n",
    "#processing the artist without &\n",
    "1. song_df.Song = song_df.Song.str.translate(str.maketrans('','','!\"#$%\\'()*+-.:;<=>?@[\\\\]^_`{|}~'))\n",
    "2. song_df.Song = song_df.Song.str.replace('&', 'and')\n",
    "\n",
    "\n",
    "1. song_df.song = song_df.song.str.translate(str.maketrans('','','!\"#$%\\'()*+-.:;<=>?@[\\\\]^_`{|}~'))\n",
    "2. song_df.song = song_df.song.str.replace('&', 'and')\n",
    "3. song_df.song = song_df.song.str.replace(', ', 'and')\n",
    "\n"
   ]
  },
  {
   "cell_type": "code",
   "execution_count": 2,
   "metadata": {
    "ExecuteTime": {
     "end_time": "2018-08-21T19:24:22.846299Z",
     "start_time": "2018-08-21T19:24:22.814224Z"
    },
    "collapsed": true
   },
   "outputs": [],
   "source": [
    "spotify_uri = pd.read_pickle('third_round_billboard_uri.pkl')"
   ]
  },
  {
   "cell_type": "code",
   "execution_count": 3,
   "metadata": {
    "ExecuteTime": {
     "end_time": "2018-08-21T19:24:28.297138Z",
     "start_time": "2018-08-21T19:24:28.229200Z"
    }
   },
   "outputs": [
    {
     "data": {
      "text/html": [
       "<div>\n",
       "<style>\n",
       "    .dataframe thead tr:only-child th {\n",
       "        text-align: right;\n",
       "    }\n",
       "\n",
       "    .dataframe thead th {\n",
       "        text-align: left;\n",
       "    }\n",
       "\n",
       "    .dataframe tbody tr th {\n",
       "        vertical-align: top;\n",
       "    }\n",
       "</style>\n",
       "<table border=\"1\" class=\"dataframe\">\n",
       "  <thead>\n",
       "    <tr style=\"text-align: right;\">\n",
       "      <th></th>\n",
       "      <th>artist</th>\n",
       "      <th>song</th>\n",
       "      <th>uri</th>\n",
       "    </tr>\n",
       "  </thead>\n",
       "  <tbody>\n",
       "    <tr>\n",
       "      <th>0</th>\n",
       "      <td>John Schneider</td>\n",
       "      <td>It's Now Or Never</td>\n",
       "      <td>NaN</td>\n",
       "    </tr>\n",
       "    <tr>\n",
       "      <th>1</th>\n",
       "      <td>Gary Wright</td>\n",
       "      <td>Really Wanna Know You</td>\n",
       "      <td>NaN</td>\n",
       "    </tr>\n",
       "    <tr>\n",
       "      <th>2</th>\n",
       "      <td>Stars On 45</td>\n",
       "      <td>Medley II</td>\n",
       "      <td>spotify:track:3OmjCLSb29ejtGqsxVE2eL</td>\n",
       "    </tr>\n",
       "    <tr>\n",
       "      <th>3</th>\n",
       "      <td>Gary O'</td>\n",
       "      <td>Pay You Back With Interest</td>\n",
       "      <td>NaN</td>\n",
       "    </tr>\n",
       "    <tr>\n",
       "      <th>4</th>\n",
       "      <td>The Afternoon Delights</td>\n",
       "      <td>General Hospi-tale</td>\n",
       "      <td>NaN</td>\n",
       "    </tr>\n",
       "    <tr>\n",
       "      <th>5</th>\n",
       "      <td>Don Felder</td>\n",
       "      <td>Heavy Metal (Takin' A Ride)</td>\n",
       "      <td>spotify:track:2W209s3Q8JhRl29QXqGAfR</td>\n",
       "    </tr>\n",
       "    <tr>\n",
       "      <th>6</th>\n",
       "      <td>The Cantina Band (featuring Lou Christie)</td>\n",
       "      <td>Summer '81 medley</td>\n",
       "      <td>NaN</td>\n",
       "    </tr>\n",
       "    <tr>\n",
       "      <th>7</th>\n",
       "      <td>Yutaka</td>\n",
       "      <td>Love Light</td>\n",
       "      <td>NaN</td>\n",
       "    </tr>\n",
       "    <tr>\n",
       "      <th>8</th>\n",
       "      <td>Jermaine Stewart</td>\n",
       "      <td>Say It Again</td>\n",
       "      <td>NaN</td>\n",
       "    </tr>\n",
       "    <tr>\n",
       "      <th>9</th>\n",
       "      <td>Suave</td>\n",
       "      <td>My Girl</td>\n",
       "      <td>spotify:track:1aEb25PQ3WE0PmjYOZD36I</td>\n",
       "    </tr>\n",
       "  </tbody>\n",
       "</table>\n",
       "</div>"
      ],
      "text/plain": [
       "                                      artist                         song  \\\n",
       "0                             John Schneider            It's Now Or Never   \n",
       "1                                Gary Wright        Really Wanna Know You   \n",
       "2                                Stars On 45                    Medley II   \n",
       "3                                    Gary O'   Pay You Back With Interest   \n",
       "4                     The Afternoon Delights           General Hospi-tale   \n",
       "5                                 Don Felder  Heavy Metal (Takin' A Ride)   \n",
       "6  The Cantina Band (featuring Lou Christie)            Summer '81 medley   \n",
       "7                                     Yutaka                   Love Light   \n",
       "8                           Jermaine Stewart                 Say It Again   \n",
       "9                                      Suave                      My Girl   \n",
       "\n",
       "                                    uri  \n",
       "0                                   NaN  \n",
       "1                                   NaN  \n",
       "2  spotify:track:3OmjCLSb29ejtGqsxVE2eL  \n",
       "3                                   NaN  \n",
       "4                                   NaN  \n",
       "5  spotify:track:2W209s3Q8JhRl29QXqGAfR  \n",
       "6                                   NaN  \n",
       "7                                   NaN  \n",
       "8                                   NaN  \n",
       "9  spotify:track:1aEb25PQ3WE0PmjYOZD36I  "
      ]
     },
     "execution_count": 3,
     "metadata": {},
     "output_type": "execute_result"
    }
   ],
   "source": [
    "spotify_uri.head(10)"
   ]
  },
  {
   "cell_type": "code",
   "execution_count": 19,
   "metadata": {
    "ExecuteTime": {
     "end_time": "2018-08-21T19:36:18.093969Z",
     "start_time": "2018-08-21T19:36:18.047229Z"
    },
    "collapsed": true
   },
   "outputs": [],
   "source": [
    "# great now, to process the lyrics and song the same way that i did for billboards import string\n",
    "\n",
    "#processing the artist without &\n",
    "spotify_uri.song = spotify_uri.song.str.translate(str.maketrans('','','!\"#$%\\'()*+-.:;<=>?@[\\\\]^_`{|}~'))\n",
    "spotify_uri.artist = spotify_uri.artist.str.translate(str.maketrans('','','!\"#$%\\'()*+,-./:;<=>?@[\\\\]^_`{|}~'))\n",
    "\n",
    "\n",
    "#i think that & is unique and needs to be replaced with and\n",
    "spotify_uri.song = spotify_uri.song.str.replace('&', 'and')\n",
    "spotify_uri.artist = spotify_uri.artist.str.replace('&', 'and')\n",
    "\n",
    "spotify_uri.song = spotify_uri.song.str.replace(', ', 'and')\n",
    "spotify_uri.artist = spotify_uri.artist.str.replace(', ', 'and')\n",
    "\n",
    "\n",
    "spotify_uri.song = spotify_uri.song.str.strip()\n",
    "spotify_uri.artist = spotify_uri.artist.str.strip()"
   ]
  },
  {
   "cell_type": "code",
   "execution_count": 31,
   "metadata": {
    "ExecuteTime": {
     "end_time": "2018-08-21T19:38:32.569419Z",
     "start_time": "2018-08-21T19:38:32.560904Z"
    }
   },
   "outputs": [
    {
     "data": {
      "text/html": [
       "<div>\n",
       "<style>\n",
       "    .dataframe thead tr:only-child th {\n",
       "        text-align: right;\n",
       "    }\n",
       "\n",
       "    .dataframe thead th {\n",
       "        text-align: left;\n",
       "    }\n",
       "\n",
       "    .dataframe tbody tr th {\n",
       "        vertical-align: top;\n",
       "    }\n",
       "</style>\n",
       "<table border=\"1\" class=\"dataframe\">\n",
       "  <thead>\n",
       "    <tr style=\"text-align: right;\">\n",
       "      <th></th>\n",
       "      <th>artist</th>\n",
       "      <th>song</th>\n",
       "      <th>uri</th>\n",
       "    </tr>\n",
       "  </thead>\n",
       "  <tbody>\n",
       "  </tbody>\n",
       "</table>\n",
       "</div>"
      ],
      "text/plain": [
       "Empty DataFrame\n",
       "Columns: [artist, song, uri]\n",
       "Index: []"
      ]
     },
     "execution_count": 31,
     "metadata": {},
     "output_type": "execute_result"
    }
   ],
   "source": [
    "spotify_uri[spotify_uri.uri == 'spotify:track:45Egmo7icyopuzJN0oMEdk']"
   ]
  },
  {
   "cell_type": "code",
   "execution_count": 10,
   "metadata": {
    "ExecuteTime": {
     "end_time": "2018-08-21T19:30:27.389665Z",
     "start_time": "2018-08-21T19:30:27.306775Z"
    },
    "collapsed": true
   },
   "outputs": [],
   "source": [
    "list_of_df = []\n",
    "for path in glob('Lyrics_folder_818/*.pkl')[:5]:\n",
    "    df = pd.DataFrame.from_dict([pd.read_pickle(str(path))])\n",
    "    list_of_df.append(df)\n",
    "    #break"
   ]
  },
  {
   "cell_type": "code",
   "execution_count": 13,
   "metadata": {
    "ExecuteTime": {
     "end_time": "2018-08-21T19:30:57.231443Z",
     "start_time": "2018-08-21T19:30:57.216501Z"
    }
   },
   "outputs": [
    {
     "data": {
      "text/html": [
       "<div>\n",
       "<style>\n",
       "    .dataframe thead tr:only-child th {\n",
       "        text-align: right;\n",
       "    }\n",
       "\n",
       "    .dataframe thead th {\n",
       "        text-align: left;\n",
       "    }\n",
       "\n",
       "    .dataframe tbody tr th {\n",
       "        vertical-align: top;\n",
       "    }\n",
       "</style>\n",
       "<table border=\"1\" class=\"dataframe\">\n",
       "  <thead>\n",
       "    <tr style=\"text-align: right;\">\n",
       "      <th></th>\n",
       "      <th>artist</th>\n",
       "      <th>lyrics</th>\n",
       "      <th>song</th>\n",
       "    </tr>\n",
       "  </thead>\n",
       "  <tbody>\n",
       "    <tr>\n",
       "      <th>0</th>\n",
       "      <td>The Cascades</td>\n",
       "      <td>The last leaf clings to the bough\\nJust one le...</td>\n",
       "      <td>The Last Leaf</td>\n",
       "    </tr>\n",
       "    <tr>\n",
       "      <th>0</th>\n",
       "      <td>Keith Urban</td>\n",
       "      <td>[Verse 1]\\nI woke up early this morning around...</td>\n",
       "      <td>Youll Think Of Me</td>\n",
       "    </tr>\n",
       "    <tr>\n",
       "      <th>0</th>\n",
       "      <td>BJ Thomas</td>\n",
       "      <td>Who's the one who tied you shoe when you were ...</td>\n",
       "      <td>Mama</td>\n",
       "    </tr>\n",
       "    <tr>\n",
       "      <th>0</th>\n",
       "      <td>Al Wilson</td>\n",
       "      <td>I've got a feeling\\nThat we'll be seeing\\nEach...</td>\n",
       "      <td>Ive Got A Feeling Well Be Seeing Each Other Again</td>\n",
       "    </tr>\n",
       "    <tr>\n",
       "      <th>0</th>\n",
       "      <td>The Pointer Sisters</td>\n",
       "      <td>[Chant:] (4x)\\nBetcha got a chick on the side,...</td>\n",
       "      <td>How Long Betcha Got A Chick On The Side</td>\n",
       "    </tr>\n",
       "  </tbody>\n",
       "</table>\n",
       "</div>"
      ],
      "text/plain": [
       "                artist                                             lyrics  \\\n",
       "0         The Cascades  The last leaf clings to the bough\\nJust one le...   \n",
       "0          Keith Urban  [Verse 1]\\nI woke up early this morning around...   \n",
       "0            BJ Thomas  Who's the one who tied you shoe when you were ...   \n",
       "0            Al Wilson  I've got a feeling\\nThat we'll be seeing\\nEach...   \n",
       "0  The Pointer Sisters  [Chant:] (4x)\\nBetcha got a chick on the side,...   \n",
       "\n",
       "                                                song  \n",
       "0                                      The Last Leaf  \n",
       "0                                  Youll Think Of Me  \n",
       "0                                               Mama  \n",
       "0  Ive Got A Feeling Well Be Seeing Each Other Again  \n",
       "0            How Long Betcha Got A Chick On The Side  "
      ]
     },
     "execution_count": 13,
     "metadata": {},
     "output_type": "execute_result"
    }
   ],
   "source": [
    "billboard_lyrics = pd.concat(list_of_df)\n",
    "billboard_lyrics.head()\n",
    "\n",
    "billboard_lyrics.artist = bill"
   ]
  },
  {
   "cell_type": "code",
   "execution_count": null,
   "metadata": {
    "collapsed": true
   },
   "outputs": [],
   "source": []
  }
 ],
 "metadata": {
  "kernelspec": {
   "display_name": "Python 3",
   "language": "python",
   "name": "python3"
  },
  "language_info": {
   "codemirror_mode": {
    "name": "ipython",
    "version": 3
   },
   "file_extension": ".py",
   "mimetype": "text/x-python",
   "name": "python",
   "nbconvert_exporter": "python",
   "pygments_lexer": "ipython3",
   "version": "3.6.3"
  },
  "varInspector": {
   "cols": {
    "lenName": 16,
    "lenType": 16,
    "lenVar": 40
   },
   "kernels_config": {
    "python": {
     "delete_cmd_postfix": "",
     "delete_cmd_prefix": "del ",
     "library": "var_list.py",
     "varRefreshCmd": "print(var_dic_list())"
    },
    "r": {
     "delete_cmd_postfix": ") ",
     "delete_cmd_prefix": "rm(",
     "library": "var_list.r",
     "varRefreshCmd": "cat(var_dic_list()) "
    }
   },
   "types_to_exclude": [
    "module",
    "function",
    "builtin_function_or_method",
    "instance",
    "_Feature"
   ],
   "window_display": false
  }
 },
 "nbformat": 4,
 "nbformat_minor": 2
}
