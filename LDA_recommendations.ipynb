{
 "cells": [
  {
   "cell_type": "code",
   "execution_count": null,
   "metadata": {
    "collapsed": true
   },
   "outputs": [],
   "source": [
    "from sklearn.feature_extraction.text import CountVectorizer, TfidfVectorizer\n",
    "\n",
    "count_vectorizer = CountVectorizer(ngram_range=(1, 2),  \n",
    "                                   stop_words='english', \n",
    "                                   token_pattern=\"\\\\b[a-z][a-z]+\\\\b\",\n",
    "                                   lowercase=True,\n",
    "                                   max_df = 0.6)\n",
    "tfidf_vectorizer = TfidfVectorizer(ngram_range=(1, 2),  \n",
    "                                   stop_words='english', \n",
    "                                   token_pattern=\"\\\\b[a-z][a-z]+\\\\b\",\n",
    "                                   lowercase=True,\n",
    "                                   max_df = 0.6)\n",
    "\n",
    "cv_data = count_vectorizer.fit_transform(ng_train.data)\n",
    "tfidf_data = tfidf_vectorizer.fit_transform(ng_train.data)"
   ]
  },
  {
   "cell_type": "code",
   "execution_count": 2,
   "metadata": {
    "ExecuteTime": {
     "end_time": "2018-08-22T01:59:20.149468Z",
     "start_time": "2018-08-22T01:59:19.196205Z"
    }
   },
   "outputs": [
    {
     "name": "stderr",
     "output_type": "stream",
     "text": [
      "/Users/jennwon/anaconda3/lib/python3.6/importlib/_bootstrap.py:219: RuntimeWarning: numpy.dtype size changed, may indicate binary incompatibility. Expected 96, got 88\n",
      "  return f(*args, **kwds)\n",
      "/Users/jennwon/anaconda3/lib/python3.6/importlib/_bootstrap.py:219: RuntimeWarning: numpy.dtype size changed, may indicate binary incompatibility. Expected 96, got 88\n",
      "  return f(*args, **kwds)\n",
      "/Users/jennwon/anaconda3/lib/python3.6/importlib/_bootstrap.py:219: RuntimeWarning: numpy.dtype size changed, may indicate binary incompatibility. Expected 96, got 88\n",
      "  return f(*args, **kwds)\n"
     ]
    }
   ],
   "source": [
    "import pandas as pd"
   ]
  },
  {
   "cell_type": "code",
   "execution_count": 4,
   "metadata": {
    "ExecuteTime": {
     "end_time": "2018-08-22T02:00:09.821924Z",
     "start_time": "2018-08-22T02:00:09.697136Z"
    }
   },
   "outputs": [],
   "source": [
    "df = pd.read_pickle('all_lyrics_with_org_names.pkl')\n",
    "df.head()\n",
    "text_space = df['lyrics'].astype(str).values.tolist()"
   ]
  },
  {
   "cell_type": "code",
   "execution_count": 7,
   "metadata": {
    "ExecuteTime": {
     "end_time": "2018-08-22T04:38:11.743315Z",
     "start_time": "2018-08-22T04:38:11.660113Z"
    },
    "collapsed": true
   },
   "outputs": [],
   "source": [
    "from sklearn.feature_extraction import text\n",
    "\n",
    "my_stop_words = text.ENGLISH_STOP_WORDS.union([\"na\", 'instrumental', 'yeah', 'ha', 'ok', 'babe', 'oo', 'baby', \n",
    "                                              'doo', 'ooh', 'da', 'hey', 'la', 'oh', 'whoa', 'choo', 'thoia', \n",
    "                                              'thoing', 'ah', 'nigga', 'niggas', 'boom', 'woo', 'chorus', 'wah',\n",
    "                                              'eh', 'laa', 'll', 'ding', 'cha', 'ain', 'dee', 'don', 'shoo', 'ya',\n",
    "                                              'yo', 'di', 'ba', 'hoo', 'ho', 'ha', 'cha', 've', 'fa', 'bwok',\n",
    "                                              'bong', 'giddy', 'got', 'uh', 'ooo', 'coo', 'wa', 'ron', 'dah', \n",
    "                                              'bom', 'bop', 'bang', 'hmss'])\n"
   ]
  },
  {
   "cell_type": "code",
   "execution_count": null,
   "metadata": {
    "collapsed": true
   },
   "outputs": [],
   "source": [
    "from sklearn.decomposition import NMF, TruncatedSVD\n",
    "fLatentDirichletAllocationtentDirichletAllocationtentDirichletAllocationtentDirichletAllocationtentDirichletAllocationtentDirichletAllocationtentDirichletAllocationtentDirichletAllocationtentDirichletAllocationtentDirichletAllocationm sklearn.decomposition import LatentDirichletAllocation\n",
    "\n",
    "n_comp = 20\n",
    "lsa_tfidf = TruncatedSVD(n_components=n_comp)\n",
    "lsa_cv = TruncatedSVD(n_components=n_comp)\n",
    "nmf_cv = NMF(n_components=n_comp)\n",
    "\n",
    "lsa_tfidf_data = lsa_tfidf.fit_transform(tfidf_data)\n",
    "lsa_cv_data = lsa_cv.fit_transform(cv_data)\n",
    "nmf_cv_data = nmf_cv.fit_transform(cv_data)"
   ]
  },
  {
   "cell_type": "code",
   "execution_count": 8,
   "metadata": {
    "ExecuteTime": {
     "end_time": "2018-08-22T04:52:30.540747Z",
     "start_time": "2018-08-22T04:38:17.619346Z"
    }
   },
   "outputs": [
    {
     "name": "stderr",
     "output_type": "stream",
     "text": [
      "/Users/jennwon/anaconda3/lib/python3.6/site-packages/sklearn/decomposition/online_lda.py:294: DeprecationWarning: n_topics has been renamed to n_components in version 0.19 and will be removed in 0.21\n",
      "  DeprecationWarning)\n"
     ]
    }
   ],
   "source": [
    "from sklearn.feature_extraction.text import CountVectorizer\n",
    "from sklearn.decomposition import LatentDirichletAllocation\n",
    "#from sklearn import datasets\n",
    "\n",
    "n_topics = 15\n",
    "n_iter = 10\n",
    "lda = LatentDirichletAllocation(n_topics=n_topics,\n",
    "                                max_iter=n_iter,\n",
    "                                random_state=42,\n",
    "                               learning_method='online')\n",
    "\n",
    "count_vectorizer = CountVectorizer(ngram_range=(1, 2),  \n",
    "                                   stop_words=my_stop_words, \n",
    "                                   token_pattern=\"\\\\b[a-z][a-z]+\\\\b\",\n",
    "                                   lowercase=True,\n",
    "                                   max_df = 0.6)\n",
    "\n",
    "X = count_vectorizer.fit_transform(text_space)\n",
    "data = lda.fit_transform(X)\n",
    "\n"
   ]
  },
  {
   "cell_type": "code",
   "execution_count": null,
   "metadata": {
    "collapsed": true
   },
   "outputs": [],
   "source": [
    "from sklearn.neighbors import NearestNeighbors\n",
    "\n",
    "def get_recommendations_process(first_article, process):\n",
    "    new_vec = process.model.transform(\n",
    "        process.vectorizer.transform([first_article]))\n",
    "    nn = NearestNeighbors(n_neighbors=10, metric='cosine', algorithm='brute')\n",
    "    nn.fit(process.training_vectors)\n",
    "    results = nn.kneighbors(new_vec)\n",
    "    return results[1][0]\n",
    "\n",
    "def print_recommendations(first_article,recommend_list):\n",
    "    print(first_article)\n",
    "    print('\\n------\\n')\n",
    "    for resp in recommend_list:\n",
    "        print('\\n --- Result --- \\n')\n",
    "        print(ng_train.data[resp])\n",
    "        \n",
    "rec_list = get_recommendations(text_space[2], lsa_cv, count_vectorizer, lsa_cv_data)\n",
    "print_recommendations(new_data.data[2],rec_list)\n",
    "\n"
   ]
  },
  {
   "cell_type": "code",
   "execution_count": null,
   "metadata": {
    "collapsed": true
   },
   "outputs": [],
   "source": []
  },
  {
   "cell_type": "code",
   "execution_count": null,
   "metadata": {
    "collapsed": true
   },
   "outputs": [],
   "source": []
  },
  {
   "cell_type": "code",
   "execution_count": null,
   "metadata": {
    "collapsed": true
   },
   "outputs": [],
   "source": []
  },
  {
   "cell_type": "code",
   "execution_count": null,
   "metadata": {
    "collapsed": true
   },
   "outputs": [],
   "source": []
  },
  {
   "cell_type": "code",
   "execution_count": null,
   "metadata": {
    "collapsed": true
   },
   "outputs": [],
   "source": [
    "\n",
    "rec_listrec_list = get_recommendations(new_data.data[2], lda, count_vectorizer, data)\n",
    "print_recommendations(new_data.data[2],rec_list)"
   ]
  }
 ],
 "metadata": {
  "kernelspec": {
   "display_name": "Python 3",
   "language": "python",
   "name": "python3"
  },
  "language_info": {
   "codemirror_mode": {
    "name": "ipython",
    "version": 3
   },
   "file_extension": ".py",
   "mimetype": "text/x-python",
   "name": "python",
   "nbconvert_exporter": "python",
   "pygments_lexer": "ipython3",
   "version": "3.6.3"
  },
  "varInspector": {
   "cols": {
    "lenName": 16,
    "lenType": 16,
    "lenVar": 40
   },
   "kernels_config": {
    "python": {
     "delete_cmd_postfix": "",
     "delete_cmd_prefix": "del ",
     "library": "var_list.py",
     "varRefreshCmd": "print(var_dic_list())"
    },
    "r": {
     "delete_cmd_postfix": ") ",
     "delete_cmd_prefix": "rm(",
     "library": "var_list.r",
     "varRefreshCmd": "cat(var_dic_list()) "
    }
   },
   "types_to_exclude": [
    "module",
    "function",
    "builtin_function_or_method",
    "instance",
    "_Feature"
   ],
   "window_display": false
  }
 },
 "nbformat": 4,
 "nbformat_minor": 2
}
