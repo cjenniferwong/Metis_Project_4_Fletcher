{
 "cells": [
  {
   "cell_type": "code",
   "execution_count": 8,
   "metadata": {
    "ExecuteTime": {
     "end_time": "2018-08-18T01:39:16.885370Z",
     "start_time": "2018-08-18T01:39:16.857314Z"
    }
   },
   "outputs": [],
   "source": [
    "import pandas as pd\n",
    "from glob import glob"
   ]
  },
  {
   "cell_type": "code",
   "execution_count": 28,
   "metadata": {
    "ExecuteTime": {
     "end_time": "2018-08-18T01:53:38.890750Z",
     "start_time": "2018-08-18T01:53:38.684560Z"
    }
   },
   "outputs": [],
   "source": [
    "songs_df = pd.DataFrame(pd.read_pickle('third_round_results_lyrics.pkl'))\n",
    "fixed_lyrics = []\n",
    "problem_indexes = []\n",
    "\n",
    "for index, song in enumerate(songs_df.lyrics):\n",
    "    if type(song) != str:\n",
    "        problem_indexes.append(index)\n",
    "        songs_df.iloc[index]['lyrics'] = ' '.join(song)\n",
    "        #break"
   ]
  },
  {
   "cell_type": "code",
   "execution_count": 26,
   "metadata": {
    "ExecuteTime": {
     "end_time": "2018-08-18T01:52:04.305575Z",
     "start_time": "2018-08-18T01:52:04.299349Z"
    }
   },
   "outputs": [],
   "source": [
    "songs_df.iloc[problem_indexes[0]]['lyrics'] = ' '.join(songs_df.lyrics.iloc[16026])"
   ]
  },
  {
   "cell_type": "code",
   "execution_count": 30,
   "metadata": {
    "ExecuteTime": {
     "end_time": "2018-08-18T01:53:57.865314Z",
     "start_time": "2018-08-18T01:53:57.858653Z"
    }
   },
   "outputs": [
    {
     "data": {
      "text/plain": [
       "\"Now the night has gone. Now the night has gone away. Doesn't seem that long. We hardly had two words to say. Hold me in your arms for just another day. I promise this one will go slow. Oh, we have the right you know. We have the right you know. Don't say the morning's come. Don't say the morning's come so soon. Must we end this way. When so much here is hard to lose. Love is everywhere, I know it is. Such moments as this are too few. Oh, it's all up to you. It's all up to you. Here I am, the one that you love. Asking for another day. Understand, the one that you love. Loves you in so many ways. Tell me we can stay. Tell me we can stay, oh please. They are the words to say. The only words I can believe. Hold me in your arms for just another day. I promise this one will go slow. Oh, we have the right you know. We have the right you know. Here I am, the one that you love. Asking for another day. Understand, the one that you love. Loves you in so many ways. Here I am, the one that you love. Asking for another day. Understand, the one that you love. Loves you in so many ways. The night has gone, a part of yesterday. I don't know what to say. I don't know what to say. Here I am, the one that you love. Asking for another day. Understand, the one that you love. Loves you in so many ways. Here I am, the one that you love. Asking for another day. Understand, the one that you love. Loves you in so many ways. Here I am, the one that you love. Asking for another day. Understand, the one that you love. Loves you in so many ways\""
      ]
     },
     "execution_count": 30,
     "metadata": {},
     "output_type": "execute_result"
    }
   ],
   "source": [
    "songs_df.iloc[problem_indexes[1]]['lyrics']"
   ]
  },
  {
   "cell_type": "code",
   "execution_count": 33,
   "metadata": {
    "ExecuteTime": {
     "end_time": "2018-08-18T01:54:18.098394Z",
     "start_time": "2018-08-18T01:54:18.085852Z"
    },
    "collapsed": true
   },
   "outputs": [],
   "source": [
    "for index, song in enumerate(songs_df.lyrics):\n",
    "    if type(song) != str:\n",
    "        print('sad')\n",
    "        break"
   ]
  },
  {
   "cell_type": "code",
   "execution_count": 34,
   "metadata": {
    "ExecuteTime": {
     "end_time": "2018-08-18T01:54:40.350586Z",
     "start_time": "2018-08-18T01:54:40.290700Z"
    },
    "collapsed": true
   },
   "outputs": [],
   "source": [
    "pd.to_pickle(songs_df, 'third_round_results_lyrics.pkl')"
   ]
  },
  {
   "cell_type": "code",
   "execution_count": null,
   "metadata": {
    "collapsed": true
   },
   "outputs": [],
   "source": []
  }
 ],
 "metadata": {
  "kernelspec": {
   "display_name": "Python 3",
   "language": "python",
   "name": "python3"
  },
  "language_info": {
   "codemirror_mode": {
    "name": "ipython",
    "version": 3
   },
   "file_extension": ".py",
   "mimetype": "text/x-python",
   "name": "python",
   "nbconvert_exporter": "python",
   "pygments_lexer": "ipython3",
   "version": "3.6.3"
  },
  "varInspector": {
   "cols": {
    "lenName": 16,
    "lenType": 16,
    "lenVar": 40
   },
   "kernels_config": {
    "python": {
     "delete_cmd_postfix": "",
     "delete_cmd_prefix": "del ",
     "library": "var_list.py",
     "varRefreshCmd": "print(var_dic_list())"
    },
    "r": {
     "delete_cmd_postfix": ") ",
     "delete_cmd_prefix": "rm(",
     "library": "var_list.r",
     "varRefreshCmd": "cat(var_dic_list()) "
    }
   },
   "types_to_exclude": [
    "module",
    "function",
    "builtin_function_or_method",
    "instance",
    "_Feature"
   ],
   "window_display": false
  }
 },
 "nbformat": 4,
 "nbformat_minor": 2
}
