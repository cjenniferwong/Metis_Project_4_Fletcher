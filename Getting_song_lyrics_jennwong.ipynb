{
 "cells": [
  {
   "cell_type": "code",
   "execution_count": null,
   "metadata": {
    "collapsed": true
   },
   "outputs": [],
   "source": [
    "{'Client ID': 'Syv7stn-Rd-mtrudAbRvuaqMUb_AgdSirVvOb9XofEnxQ4_oYlVzptzilTlFhbcq',\n",
    "    'Client Secret':'A0fegVhhiemDPVDdDdtYkW-8j9GF-d6pFv4_-_sbuX7Hm3yOzqlPL-HRof0bzHYu9x-CaYc0ak9AMQ3ZIYt_Ig',\n",
    "'Client Access Token': 'HIs4ia8HMYMSYsZVHrYSFdAhcum7gHC0ZWMPa5pXJOoQUhd86oe6maD-BkIcKrnz'\n",
    "\n",
    "\n",
    "}"
   ]
  },
  {
   "cell_type": "code",
   "execution_count": null,
   "metadata": {
    "ExecuteTime": {
     "end_time": "2018-08-14T06:02:15.635450Z",
     "start_time": "2018-08-14T06:02:15.628661Z"
    }
   },
   "outputs": [],
   "source": [
    "export GENIUS_CLIENT_ACCESS_TOKEN=\"HIs4ia8HMYMSYsZVHrYSFdAhcum7gHC0ZWMPa5pXJOoQUhd86oe6maD-BkIcKrnz\""
   ]
  },
  {
   "cell_type": "markdown",
   "metadata": {},
   "source": [
    "### Importing necessary modules and files"
   ]
  },
  {
   "cell_type": "code",
   "execution_count": 4,
   "metadata": {
    "ExecuteTime": {
     "end_time": "2018-08-15T06:51:25.285708Z",
     "start_time": "2018-08-15T06:51:23.880690Z"
    }
   },
   "outputs": [
    {
     "name": "stderr",
     "output_type": "stream",
     "text": [
      "/Users/jennwon/anaconda3/lib/python3.6/importlib/_bootstrap.py:219: RuntimeWarning: numpy.dtype size changed, may indicate binary incompatibility. Expected 96, got 88\n",
      "  return f(*args, **kwds)\n",
      "/Users/jennwon/anaconda3/lib/python3.6/importlib/_bootstrap.py:219: RuntimeWarning: numpy.dtype size changed, may indicate binary incompatibility. Expected 96, got 88\n",
      "  return f(*args, **kwds)\n",
      "/Users/jennwon/anaconda3/lib/python3.6/importlib/_bootstrap.py:219: RuntimeWarning: numpy.dtype size changed, may indicate binary incompatibility. Expected 96, got 88\n",
      "  return f(*args, **kwds)\n"
     ]
    }
   ],
   "source": [
    "import requests\n",
    "from bs4 import BeautifulSoup\n",
    "import pandas as pd"
   ]
  },
  {
   "cell_type": "code",
   "execution_count": 11,
   "metadata": {
    "ExecuteTime": {
     "end_time": "2018-08-15T06:52:16.949275Z",
     "start_time": "2018-08-15T06:52:13.318894Z"
    },
    "collapsed": true
   },
   "outputs": [],
   "source": [
    "# loading data\n",
    "\n",
    "df = pd.read_csv('lyrics.csv')\n",
    "billboard = pd.read_csv('billboards.csv')"
   ]
  },
  {
   "cell_type": "code",
   "execution_count": 12,
   "metadata": {
    "ExecuteTime": {
     "end_time": "2018-08-15T06:52:18.237854Z",
     "start_time": "2018-08-15T06:52:17.098865Z"
    }
   },
   "outputs": [
    {
     "data": {
      "text/html": [
       "<div>\n",
       "<style>\n",
       "    .dataframe thead tr:only-child th {\n",
       "        text-align: right;\n",
       "    }\n",
       "\n",
       "    .dataframe thead th {\n",
       "        text-align: left;\n",
       "    }\n",
       "\n",
       "    .dataframe tbody tr th {\n",
       "        vertical-align: top;\n",
       "    }\n",
       "</style>\n",
       "<table border=\"1\" class=\"dataframe\">\n",
       "  <thead>\n",
       "    <tr style=\"text-align: right;\">\n",
       "      <th></th>\n",
       "      <th>index</th>\n",
       "      <th>song</th>\n",
       "      <th>year</th>\n",
       "      <th>artist</th>\n",
       "      <th>genre</th>\n",
       "      <th>lyrics</th>\n",
       "    </tr>\n",
       "  </thead>\n",
       "  <tbody>\n",
       "    <tr>\n",
       "      <th>0</th>\n",
       "      <td>0</td>\n",
       "      <td>ego remix</td>\n",
       "      <td>2009</td>\n",
       "      <td>beyonce knowles</td>\n",
       "      <td>Pop</td>\n",
       "      <td>Oh baby, how you doing? You know I'm gonna cut...</td>\n",
       "    </tr>\n",
       "    <tr>\n",
       "      <th>1</th>\n",
       "      <td>1</td>\n",
       "      <td>then tell me</td>\n",
       "      <td>2009</td>\n",
       "      <td>beyonce knowles</td>\n",
       "      <td>Pop</td>\n",
       "      <td>playin' everything so easy, it's like you seem...</td>\n",
       "    </tr>\n",
       "    <tr>\n",
       "      <th>2</th>\n",
       "      <td>2</td>\n",
       "      <td>honesty</td>\n",
       "      <td>2009</td>\n",
       "      <td>beyonce knowles</td>\n",
       "      <td>Pop</td>\n",
       "      <td>If you search For tenderness It isn't hard to ...</td>\n",
       "    </tr>\n",
       "    <tr>\n",
       "      <th>3</th>\n",
       "      <td>3</td>\n",
       "      <td>you are my rock</td>\n",
       "      <td>2009</td>\n",
       "      <td>beyonce knowles</td>\n",
       "      <td>Pop</td>\n",
       "      <td>Oh oh oh I, oh oh oh I [Verse 1:] If I wrote a...</td>\n",
       "    </tr>\n",
       "    <tr>\n",
       "      <th>4</th>\n",
       "      <td>4</td>\n",
       "      <td>black culture</td>\n",
       "      <td>2009</td>\n",
       "      <td>beyonce knowles</td>\n",
       "      <td>Pop</td>\n",
       "      <td>Party the people, the people the party it's po...</td>\n",
       "    </tr>\n",
       "  </tbody>\n",
       "</table>\n",
       "</div>"
      ],
      "text/plain": [
       "   index             song  year           artist genre  \\\n",
       "0      0        ego remix  2009  beyonce knowles   Pop   \n",
       "1      1     then tell me  2009  beyonce knowles   Pop   \n",
       "2      2          honesty  2009  beyonce knowles   Pop   \n",
       "3      3  you are my rock  2009  beyonce knowles   Pop   \n",
       "4      4    black culture  2009  beyonce knowles   Pop   \n",
       "\n",
       "                                              lyrics  \n",
       "0  Oh baby, how you doing? You know I'm gonna cut...  \n",
       "1  playin' everything so easy, it's like you seem...  \n",
       "2  If you search For tenderness It isn't hard to ...  \n",
       "3  Oh oh oh I, oh oh oh I [Verse 1:] If I wrote a...  \n",
       "4  Party the people, the people the party it's po...  "
      ]
     },
     "execution_count": 12,
     "metadata": {},
     "output_type": "execute_result"
    }
   ],
   "source": [
    "#df = pd.read_csv('lyrics.csv')\n",
    "# after looking at the first element of the lyrics column, I need to be remove all the spacing and annotations in \n",
    "# the csv database as well as the scraped lyrics, because its not consistent with the other elements in the lyrics album\n",
    "df['song'] = df.song.str.replace('-', \" \")\n",
    "df['artist'] = df.artist.str.replace('-', \" \")\n",
    "df['lyrics'] = df.lyrics.str.replace('\\n', ' ')\n",
    "df.head()"
   ]
  },
  {
   "cell_type": "code",
   "execution_count": 13,
   "metadata": {
    "ExecuteTime": {
     "end_time": "2018-08-15T06:52:18.439009Z",
     "start_time": "2018-08-15T06:52:18.406982Z"
    }
   },
   "outputs": [
    {
     "data": {
      "text/plain": [
       "[{'Artist': '2 Chainz', 'Song': '4 AM'},\n",
       " {'Artist': '2 Chainz', 'Song': \"It's A Vibe\"},\n",
       " {'Artist': '2 Chainz', 'Song': 'Proud'},\n",
       " {'Artist': '2 Chainz, Gucci Mane, Quavo', 'Song': 'Good Drank'},\n",
       " {'Artist': '2 Chainz, Drake', 'Song': 'Bigger than You'}]"
      ]
     },
     "execution_count": 13,
     "metadata": {},
     "output_type": "execute_result"
    }
   ],
   "source": [
    "# cool after I finish cleaning this dataset, i need to figure out how to find the lyrics for the songs from my\n",
    "# previous project. let me load the dataset into this project repo first\n",
    "\n",
    "billboard = pd.read_csv('billboards.csv')\n",
    "billboard.Song = billboard.Song.str.replace('>', 'than')\n",
    "billboard.Artist = billboard.Artist.str.replace(' x ', ', ')\n",
    "billboard.drop('num_weeks', inplace = True, axis = 1)\n",
    "# billboard.head(20)\n",
    "\n",
    "billboard_dict = billboard.to_dict('records')\n",
    "billboard_dict[:5]\n"
   ]
  },
  {
   "cell_type": "markdown",
   "metadata": {},
   "source": [
    "### Testing out the thought process to get to the final product"
   ]
  },
  {
   "cell_type": "markdown",
   "metadata": {},
   "source": [
    "Notes:\n",
    "\n",
    "1. punctuation like $ will be replaced by '-' in the url\n",
    "\n",
    "1. multiple artists will be in the url, so maybe i need to get all of the artists from the spotify api? put in a try/except so that i can keep track of all the songs that didn't work and do that later for a smaller subset of songs\n",
    "\n"
   ]
  },
  {
   "cell_type": "code",
   "execution_count": null,
   "metadata": {
    "ExecuteTime": {
     "end_time": "2018-08-15T05:01:48.035230Z",
     "start_time": "2018-08-15T05:01:47.341556Z"
    }
   },
   "outputs": [],
   "source": [
    "from nltk import sent_tokenize, word_tokenize\n",
    "\n",
    "\n",
    "# grabbing the data from the url\n",
    "artist = 'Tessa Violet'\n",
    "artist_url = artist.lower().replace(' ', '-')\n",
    "\n",
    "source_code = requests.get(f'https://genius.com/{artist_url}-crush-lyrics')\n",
    "soup = BeautifulSoup(source_code.text, 'html5lib')\n",
    "lyrics = soup.find('div', class_='lyrics').text.strip()\n",
    "\n",
    "#cleaning\n",
    "\n",
    "lyrics = lyrics.replace('\\n', '. ')\n",
    "sentences = sent_tokenize(lyrics)\n",
    "cleaned = [sentence for sentence in sentences if ('bridge' not in sentence.lower()) and ('verse' not in sentence.lower()) and ('chorus' not in sentence.lower()) and len(sentence) >1]\n",
    "\n",
    "data = [artist, song, cleaned]\n",
    "key =['artist', 'song', 'lyrics']\n",
    "song_dict = dict(zip(key, data))\n",
    "print(song_dict)"
   ]
  },
  {
   "cell_type": "code",
   "execution_count": null,
   "metadata": {
    "ExecuteTime": {
     "end_time": "2018-08-15T05:15:11.765307Z",
     "start_time": "2018-08-15T05:15:10.691574Z"
    }
   },
   "outputs": [],
   "source": [
    "\n",
    "artist = 'Kanye West'\n",
    "artist_url = artist.replace(' ', '-')\n",
    "\n",
    "song = 'All of the Lights'\n",
    "song_url = song.replace(' ', '-')\n",
    "\n",
    "\n",
    "source_code = requests.get(f'https://genius.com/{artist_url}-{song_url}-lyrics')\n",
    "soup = BeautifulSoup(source_code.text, 'html5lib')\n",
    "lyrics = soup.find('div', class_='lyrics').text.strip()\n",
    "\n",
    "#cleaning\n",
    "\n",
    "lyrics = lyrics.replace('\\n', '. ')\n",
    "sentences = sent_tokenize(lyrics)\n",
    "cleaned = [sentence for sentence in sentences if \n",
    "           ('produced' not in sentence.lower()) and\n",
    "           ('intro' not in sentence.lower()) and\n",
    "           ('outro' not in sentence.lower()) and\n",
    "           ('bridge' not in sentence.lower()) and \n",
    "           ('verse' not in sentence.lower()) and \n",
    "           ('chorus' not in sentence.lower()) and len(sentence) >1]\n",
    "cleaned\n",
    "\n",
    "#it would be nice to all of this in a dictionary that i can just put into an array and then turn into a pd dataframe\n",
    "\n",
    "data = [artist, song, cleaned]\n",
    "key =['artist', 'song', 'lyrics']\n",
    "song_dict = dict(zip(key, data))\n",
    "# print(song_dict) #yay it worked\n",
    "# please note it takes like a second for one song..."
   ]
  },
  {
   "cell_type": "code",
   "execution_count": null,
   "metadata": {
    "ExecuteTime": {
     "end_time": "2018-08-15T05:05:27.024217Z",
     "start_time": "2018-08-15T05:05:26.293805Z"
    }
   },
   "outputs": [],
   "source": [
    "# https://genius.com/2-chainz-bigger-than-you-lyrics\n",
    "    \n",
    "source_code = requests.get('https://genius.com/2-chainz-bigger-than-you-lyrics')\n",
    "soup = BeautifulSoup(source_code.text, 'html5lib')\n",
    "lyrics = soup.find('div', class_='lyrics').text.strip()\n",
    "print((lyrics)) "
   ]
  },
  {
   "cell_type": "code",
   "execution_count": null,
   "metadata": {
    "collapsed": true
   },
   "outputs": [],
   "source": [
    "billboard_dict"
   ]
  },
  {
   "cell_type": "code",
   "execution_count": 17,
   "metadata": {
    "ExecuteTime": {
     "end_time": "2018-08-15T06:52:39.967800Z",
     "start_time": "2018-08-15T06:52:39.931967Z"
    },
    "collapsed": true
   },
   "outputs": [],
   "source": [
    "# i need to building a function that takes the billboard songs and just scrapes for songs!\n",
    "\n",
    "def scrape_genius(artist, song):\n",
    "    \n",
    "    #artist = 'Kanye West'\n",
    "    artist = artist.replace(\"'\", '')\n",
    "    song = song.replace(\"'\", '')\n",
    "    artist_url = artist.replace(' ', '-')\n",
    "    #artist_url = artist.replace(',-', '-')\n",
    "    #artist_url = artist.replace(',', '')\n",
    "\n",
    "    #song = 'All of the Lights'\n",
    "    song_url = song.replace(' ', '-')\n",
    "\n",
    "    url = f'https://genius.com/{artist_url}-{song_url}-lyrics'\n",
    "    # print(url)\n",
    "    source_code = requests.get(url)\n",
    "    soup = BeautifulSoup(source_code.text, 'html5lib')\n",
    "    lyrics = soup.find('div', class_='lyrics').text.strip()\n",
    "\n",
    "    #cleaning\n",
    "\n",
    "    lyrics = lyrics.replace('\\n', '. ')\n",
    "    sentences = sent_tokenize(lyrics)\n",
    "    cleaned = [sentence for sentence in sentences if \n",
    "               ('produced' not in sentence.lower()) and\n",
    "               ('intro' not in sentence.lower()) and\n",
    "               ('outro' not in sentence.lower()) and\n",
    "               ('bridge' not in sentence.lower()) and \n",
    "               ('verse' not in sentence.lower()) and \n",
    "               ('chorus' not in sentence.lower()) and len(sentence) >1]\n",
    "    cleaned\n",
    "\n",
    "    #it would be nice to all of this in a dictionary that i can just put into an array and then turn into a pd dataframe\n",
    "\n",
    "    data = [artist, song, cleaned]\n",
    "    key =['artist', 'song', 'lyrics']\n",
    "    song_dict = dict(zip(key, data))\n",
    "    return song_dict"
   ]
  },
  {
   "cell_type": "code",
   "execution_count": 18,
   "metadata": {
    "ExecuteTime": {
     "end_time": "2018-08-15T06:52:41.556136Z",
     "start_time": "2018-08-15T06:52:41.550403Z"
    }
   },
   "outputs": [
    {
     "data": {
      "text/plain": [
       "828"
      ]
     },
     "execution_count": 18,
     "metadata": {},
     "output_type": "execute_result"
    }
   ],
   "source": [
    "len(billboard_dict)"
   ]
  },
  {
   "cell_type": "markdown",
   "metadata": {},
   "source": [
    "### Finally Scraping"
   ]
  },
  {
   "cell_type": "code",
   "execution_count": 19,
   "metadata": {
    "ExecuteTime": {
     "end_time": "2018-08-15T06:53:25.213938Z",
     "start_time": "2018-08-15T06:52:42.685998Z"
    }
   },
   "outputs": [],
   "source": [
    "smaller = billboard_dict[:20]\n",
    "\n",
    "lyrics = []\n",
    "missing = []\n",
    "for record in smaller:\n",
    "    song = record['Song']\n",
    "    artist = record['Artist']\n",
    "    artist = artist.replace(', ', ' ')\n",
    "    artist = artist.replace('.', '')\n",
    "    song = song.replace('.', '')\n",
    "    #print(artist, song)\n",
    "    # artist = record['Artist']\n",
    "    try:\n",
    "        lyrics.append(scrape_genius(artist, song))\n",
    "    except:\n",
    "        print(artist, song)\n",
    "        missing.append(record)\n",
    "        pass\n",
    "    #print(lyrics)\n",
    "    #print('done')"
   ]
  },
  {
   "cell_type": "code",
   "execution_count": 20,
   "metadata": {
    "ExecuteTime": {
     "end_time": "2018-08-15T06:53:25.416182Z",
     "start_time": "2018-08-15T06:53:25.403075Z"
    }
   },
   "outputs": [
    {
     "data": {
      "text/plain": [
       "20"
      ]
     },
     "execution_count": 20,
     "metadata": {},
     "output_type": "execute_result"
    }
   ],
   "source": [
    "len(missing)"
   ]
  },
  {
   "cell_type": "code",
   "execution_count": 16,
   "metadata": {
    "ExecuteTime": {
     "end_time": "2018-08-15T06:52:34.862933Z",
     "start_time": "2018-08-15T06:52:34.857929Z"
    }
   },
   "outputs": [
    {
     "data": {
      "text/plain": [
       "0"
      ]
     },
     "execution_count": 16,
     "metadata": {},
     "output_type": "execute_result"
    }
   ],
   "source": [
    "len(lyrics)"
   ]
  },
  {
   "cell_type": "code",
   "execution_count": null,
   "metadata": {
    "ExecuteTime": {
     "end_time": "2018-08-15T05:46:02.270730Z",
     "start_time": "2018-08-15T05:46:02.262690Z"
    },
    "collapsed": true
   },
   "outputs": [],
   "source": [
    "billboard_lyrics = pd.DataFrame(lyrics)"
   ]
  },
  {
   "cell_type": "code",
   "execution_count": null,
   "metadata": {
    "collapsed": true
   },
   "outputs": [],
   "source": []
  }
 ],
 "metadata": {
  "kernelspec": {
   "display_name": "Python 3",
   "language": "python",
   "name": "python3"
  },
  "language_info": {
   "codemirror_mode": {
    "name": "ipython",
    "version": 3
   },
   "file_extension": ".py",
   "mimetype": "text/x-python",
   "name": "python",
   "nbconvert_exporter": "python",
   "pygments_lexer": "ipython3",
   "version": "3.6.3"
  },
  "varInspector": {
   "cols": {
    "lenName": 16,
    "lenType": 16,
    "lenVar": 40
   },
   "kernels_config": {
    "python": {
     "delete_cmd_postfix": "",
     "delete_cmd_prefix": "del ",
     "library": "var_list.py",
     "varRefreshCmd": "print(var_dic_list())"
    },
    "r": {
     "delete_cmd_postfix": ") ",
     "delete_cmd_prefix": "rm(",
     "library": "var_list.r",
     "varRefreshCmd": "cat(var_dic_list()) "
    }
   },
   "types_to_exclude": [
    "module",
    "function",
    "builtin_function_or_method",
    "instance",
    "_Feature"
   ],
   "window_display": false
  }
 },
 "nbformat": 4,
 "nbformat_minor": 2
}
