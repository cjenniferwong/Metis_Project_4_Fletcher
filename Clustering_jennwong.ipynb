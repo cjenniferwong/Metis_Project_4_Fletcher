{
 "cells": [
  {
   "cell_type": "code",
   "execution_count": 5,
   "metadata": {
    "ExecuteTime": {
     "end_time": "2018-08-17T18:53:33.018577Z",
     "start_time": "2018-08-17T18:53:32.109925Z"
    },
    "collapsed": true
   },
   "outputs": [],
   "source": [
    "import numpy as np\n",
    "I LOVE BRENT\n",
    "import matplotlib.pyplot as plt\n",
    "import pandas as pd\n",
    "I LOVE BRENT\n",
    "%matplotlib inline\n",
    "\n",
    "from sklearn import metrics\n",
    "from sklearn.metrics import pairwise_distances\n",
    "I LOVE LAWRENCE\n",
    "from sklearn.metrics import silhouette_score\n",
    "from sklearn.preprocessing import scale\n",
    "\n",
    "from sklearn.datasets import fetch_mldata\n",
    "from sklearn.cluster import KMeans\n",
    "BRENT BRENT BRENT\n",
    "from sklearn.utils import shuffle\n",
    "\n",
    "import pandas as pd\n",
    "import warnings\n",
    "warnings.filterwarnings(\"ignore\",category=DeprecationWarning)\n",
    "WOO BRENT\n",
    "import numpy as np\n",
    "import nltk\n",
    "I LOVE BRENT\n",
    "import os\n",
    "from sklearn import datasets\n",
    "from sklearn.feature_extraction.text import CountVectorizer, TfidfVectorizer\n",
    "from sklearn.decomposition import NMF, TruncatedSVD"
   ]
  },
  {
   "cell_type": "code",
   "execution_count": 3,
   "metadata": {
    "ExecuteTime": {
     "end_time": "2018-08-17T15:43:05.376666Z",
     "start_time": "2018-08-17T15:43:05.238785Z"
    }
   },
   "outputs": [
    {
     "data": {
      "text/html": [
       "<div>\n",
       "<style>\n",
       "    .dataframe thead tr:only-child th {\n",
       "        text-align: right;\n",
       "    }\n",
       "\n",
       "    .dataframe thead th {\n",
       "        text-align: left;\n",
       "    }\n",
       "\n",
       "    .dataframe tbody tr th {\n",
       "        vertical-align: top;\n",
       "    }\n",
       "</style>\n",
       "<table border=\"1\" class=\"dataframe\">\n",
       "  <thead>\n",
       "    <tr style=\"text-align: right;\">\n",
       "      <th></th>\n",
       "      <th>artist</th>\n",
       "      <th>lyrics</th>\n",
       "      <th>song</th>\n",
       "    </tr>\n",
       "  </thead>\n",
       "  <tbody>\n",
       "    <tr>\n",
       "      <th>0</th>\n",
       "      <td>The Cascades</td>\n",
       "      <td>The last leaf clings to the bough. Just one le...</td>\n",
       "      <td>The Last Leaf</td>\n",
       "    </tr>\n",
       "    <tr>\n",
       "      <th>0</th>\n",
       "      <td>Keith Urban</td>\n",
       "      <td>I woke up early this morning around 4am. With ...</td>\n",
       "      <td>Youll Think Of Me</td>\n",
       "    </tr>\n",
       "    <tr>\n",
       "      <th>0</th>\n",
       "      <td>BJ Thomas</td>\n",
       "      <td>Who's the one who tied you shoe when you were ...</td>\n",
       "      <td>Mama</td>\n",
       "    </tr>\n",
       "    <tr>\n",
       "      <th>0</th>\n",
       "      <td>The Mixtures</td>\n",
       "      <td>Riding along my pushbike honey. When I noticed...</td>\n",
       "      <td>Pushbike Song</td>\n",
       "    </tr>\n",
       "    <tr>\n",
       "      <th>0</th>\n",
       "      <td>Greg Kihn Band</td>\n",
       "      <td>Oh Oh Oh Oh. Where were you when I needed you?...</td>\n",
       "      <td>Jeopardy</td>\n",
       "    </tr>\n",
       "    <tr>\n",
       "      <th>0</th>\n",
       "      <td>Expose</td>\n",
       "      <td>More than ever you're on my mind. Being lonely...</td>\n",
       "      <td>I Wish The Phone Would Ring</td>\n",
       "    </tr>\n",
       "    <tr>\n",
       "      <th>0</th>\n",
       "      <td>Carpenters</td>\n",
       "      <td>The hardest thing I've ever done. Is keep beli...</td>\n",
       "      <td>I Need To Be In Love</td>\n",
       "    </tr>\n",
       "    <tr>\n",
       "      <th>0</th>\n",
       "      <td>Soul II Soul</td>\n",
       "      <td>I can see, i can see, i can see, i can see. I ...</td>\n",
       "      <td>A Dreams A Dream</td>\n",
       "    </tr>\n",
       "    <tr>\n",
       "      <th>0</th>\n",
       "      <td>Vitamin Z</td>\n",
       "      <td>Walking out tonight in the street lights I can...</td>\n",
       "      <td>Burning Flame</td>\n",
       "    </tr>\n",
       "    <tr>\n",
       "      <th>0</th>\n",
       "      <td>Herbie Hancock</td>\n",
       "      <td>[Instrumental]</td>\n",
       "      <td>Chameleon</td>\n",
       "    </tr>\n",
       "    <tr>\n",
       "      <th>0</th>\n",
       "      <td>Queen</td>\n",
       "      <td>Oooh yeah. Get your party gown. Get your pigta...</td>\n",
       "      <td>Tie Your Mother Down</td>\n",
       "    </tr>\n",
       "    <tr>\n",
       "      <th>0</th>\n",
       "      <td>Rod Stewart</td>\n",
       "      <td>Hey baby. You've been on my mind tonight. I'm ...</td>\n",
       "      <td>Lost In You</td>\n",
       "    </tr>\n",
       "    <tr>\n",
       "      <th>0</th>\n",
       "      <td>The Shirelles</td>\n",
       "      <td>Mama said there'll be days like this. There'll...</td>\n",
       "      <td>Mama Said</td>\n",
       "    </tr>\n",
       "    <tr>\n",
       "      <th>0</th>\n",
       "      <td>Billy Preston</td>\n",
       "      <td>I wrote a simple song. With simple words and h...</td>\n",
       "      <td>I Wrote A Simple Song</td>\n",
       "    </tr>\n",
       "    <tr>\n",
       "      <th>0</th>\n",
       "      <td>George Baker Selection</td>\n",
       "      <td>Ann, oh, my dear Ann. You hit me in my face ag...</td>\n",
       "      <td>Dear Ann</td>\n",
       "    </tr>\n",
       "    <tr>\n",
       "      <th>0</th>\n",
       "      <td>The Everly Brothers</td>\n",
       "      <td>After all we've been. To one another. How can ...</td>\n",
       "      <td>Dont Ask Me To Be Friends</td>\n",
       "    </tr>\n",
       "    <tr>\n",
       "      <th>0</th>\n",
       "      <td>Black Oak Arkansas</td>\n",
       "      <td>Jim Dandy to the rescue!. Jim Dandy to the res...</td>\n",
       "      <td>Jim Dandy</td>\n",
       "    </tr>\n",
       "    <tr>\n",
       "      <th>0</th>\n",
       "      <td>David Cassidy</td>\n",
       "      <td>Could it be forever. Or is my mind just rambli...</td>\n",
       "      <td>Could It Be Forever</td>\n",
       "    </tr>\n",
       "    <tr>\n",
       "      <th>0</th>\n",
       "      <td>Lamont Dozier</td>\n",
       "      <td>I'm out here fighting, hungry. The fish ain't ...</td>\n",
       "      <td>Fish Aint Bitin</td>\n",
       "    </tr>\n",
       "    <tr>\n",
       "      <th>0</th>\n",
       "      <td>New Kids On The Block</td>\n",
       "      <td>Jones Beach, 1988. Come on. Do you remember or...</td>\n",
       "      <td>Summertime</td>\n",
       "    </tr>\n",
       "  </tbody>\n",
       "</table>\n",
       "</div>"
      ],
      "text/plain": [
       "                   artist                                             lyrics  \\\n",
       "0            The Cascades  The last leaf clings to the bough. Just one le...   \n",
       "0             Keith Urban  I woke up early this morning around 4am. With ...   \n",
       "0               BJ Thomas  Who's the one who tied you shoe when you were ...   \n",
       "0            The Mixtures  Riding along my pushbike honey. When I noticed...   \n",
       "0          Greg Kihn Band  Oh Oh Oh Oh. Where were you when I needed you?...   \n",
       "0                  Expose  More than ever you're on my mind. Being lonely...   \n",
       "0              Carpenters  The hardest thing I've ever done. Is keep beli...   \n",
       "0            Soul II Soul  I can see, i can see, i can see, i can see. I ...   \n",
       "0               Vitamin Z  Walking out tonight in the street lights I can...   \n",
       "0          Herbie Hancock                                     [Instrumental]   \n",
       "0                   Queen  Oooh yeah. Get your party gown. Get your pigta...   \n",
       "0             Rod Stewart  Hey baby. You've been on my mind tonight. I'm ...   \n",
       "0           The Shirelles  Mama said there'll be days like this. There'll...   \n",
       "0           Billy Preston  I wrote a simple song. With simple words and h...   \n",
       "0  George Baker Selection  Ann, oh, my dear Ann. You hit me in my face ag...   \n",
       "0     The Everly Brothers  After all we've been. To one another. How can ...   \n",
       "0      Black Oak Arkansas  Jim Dandy to the rescue!. Jim Dandy to the res...   \n",
       "0           David Cassidy  Could it be forever. Or is my mind just rambli...   \n",
       "0           Lamont Dozier  I'm out here fighting, hungry. The fish ain't ...   \n",
       "0   New Kids On The Block  Jones Beach, 1988. Come on. Do you remember or...   \n",
       "\n",
       "                          song  \n",
       "0                The Last Leaf  \n",
       "0            Youll Think Of Me  \n",
       "0                         Mama  \n",
       "0                Pushbike Song  \n",
       "0                     Jeopardy  \n",
       "0  I Wish The Phone Would Ring  \n",
       "0         I Need To Be In Love  \n",
       "0             A Dreams A Dream  \n",
       "0                Burning Flame  \n",
       "0                    Chameleon  \n",
       "0         Tie Your Mother Down  \n",
       "0                  Lost In You  \n",
       "0                    Mama Said  \n",
       "0        I Wrote A Simple Song  \n",
       "0                     Dear Ann  \n",
       "0    Dont Ask Me To Be Friends  \n",
       "0                    Jim Dandy  \n",
       "0          Could It Be Forever  \n",
       "0              Fish Aint Bitin  \n",
       "0                   Summertime  "
      ]
     },
     "execution_count": 3,
     "metadata": {},
     "output_type": "execute_result"
    }
   ],
   "source": [
    "# let's load the data into the notebook\n",
    "\n",
    "df = pd.DataFrame(pd.read_pickle('third_round_results_lyrics.pkl'))\n",
    "df.head(20)"
   ]
  },
  {
   "cell_type": "code",
   "execution_count": 7,
   "metadata": {
    "ExecuteTime": {
     "end_time": "2018-08-17T18:54:03.116326Z",
     "start_time": "2018-08-17T18:54:03.108862Z"
    }
   },
   "outputs": [
    {
     "data": {
      "text/plain": [
       "pandas.core.series.Series"
      ]
     },
     "execution_count": 7,
     "metadata": {},
     "output_type": "execute_result"
    }
   ],
   "source": [
    "lyrics =df.lyrics.copy(deep = True)\n",
    "type(lyrics)"
   ]
  },
  {
   "cell_type": "code",
   "execution_count": 8,
   "metadata": {
    "ExecuteTime": {
     "end_time": "2018-08-17T18:54:12.209005Z",
     "start_time": "2018-08-17T18:54:11.689406Z"
    },
    "collapsed": true
   },
   "outputs": [],
   "source": [
    "lyrics = lyrics.apply(', '.join)"
   ]
  },
  {
   "cell_type": "code",
   "execution_count": 9,
   "metadata": {
    "ExecuteTime": {
     "end_time": "2018-08-17T18:54:14.907530Z",
     "start_time": "2018-08-17T18:54:14.897712Z"
    }
   },
   "outputs": [
    {
     "data": {
      "text/plain": [
       "0    T, h, e,  , l, a, s, t,  , l, e, a, f,  , c, l...\n",
       "0    I,  , w, o, k, e,  , u, p,  , e, a, r, l, y,  ...\n",
       "0    W, h, o, ', s,  , t, h, e,  , o, n, e,  , w, h...\n",
       "0    R, i, d, i, n, g,  , a, l, o, n, g,  , m, y,  ...\n",
       "0    O, h,  , O, h,  , O, h,  , O, h, .,  , W, h, e...\n",
       "0    M, o, r, e,  , t, h, a, n,  , e, v, e, r,  , y...\n",
       "0    T, h, e,  , h, a, r, d, e, s, t,  , t, h, i, n...\n",
       "0    I,  , c, a, n,  , s, e, e, ,,  , i,  , c, a, n...\n",
       "0    W, a, l, k, i, n, g,  , o, u, t,  , t, o, n, i...\n",
       "0             [, I, n, s, t, r, u, m, e, n, t, a, l, ]\n",
       "0    O, o, o, h,  , y, e, a, h, .,  , G, e, t,  , y...\n",
       "0    H, e, y,  , b, a, b, y, .,  , Y, o, u, ', v, e...\n",
       "0    M, a, m, a,  , s, a, i, d,  , t, h, e, r, e, '...\n",
       "0    I,  , w, r, o, t, e,  , a,  , s, i, m, p, l, e...\n",
       "0    A, n, n, ,,  , o, h, ,,  , m, y,  , d, e, a, r...\n",
       "0    A, f, t, e, r,  , a, l, l,  , w, e, ', v, e,  ...\n",
       "0    J, i, m,  , D, a, n, d, y,  , t, o,  , t, h, e...\n",
       "0    C, o, u, l, d,  , i, t,  , b, e,  , f, o, r, e...\n",
       "0    I, ', m,  , o, u, t,  , h, e, r, e,  , f, i, g...\n",
       "0    J, o, n, e, s,  , B, e, a, c, h, ,,  , 1, 9, 8...\n",
       "0    C, r, y, i, n, ',  , d, o, e, s, n, ', t,  , e...\n",
       "0    I, f,  , I,  , c, o, u, l, d,  , w, r, i, t, e...\n",
       "0    W, h, y,  , c, a, n, ', t,  , y, o, u,  , s, e...\n",
       "0    A,  , y, o, u, n, g,  , m, a, n,  , r, o, d, e...\n",
       "0    (, \", I, ', m,  , c, o, m, i, n, ', \", ), .,  ...\n",
       "0    S, p, o, k, e, n, :, .,  , I, ', v, e,  , g, o...\n",
       "0    A, n, d,  , t, h, e,  , m, o, m, e, n, t,  , I...\n",
       "0    D, u, m, b,  , h, e, a, d,  , (, d, u, m, b,  ...\n",
       "0    I,  , g, o, t,  , a,  , s, e, c, r, e, t,  , f...\n",
       "0    L, i, f, e,  , i, s,  , j, u, s, t,  , a,  , p...\n",
       "                           ...                        \n",
       "0    I, n,  , a,  , w, a, y, ,,  , I,  , n, e, e, d...\n",
       "0    I,  , l, o, v, e,  , C, o, r, i, n, n, a, ,,  ...\n",
       "0    M, y,  , l, o, v, e,  , h, a, s,  , n, o,  , b...\n",
       "0    L, a, ,,  , d, a, ,,  , d, a, ,,  , d, a, .,  ...\n",
       "0    P, a, i, r,  , o, f,  , b, o, o, t, s,  , a, n...\n",
       "0    H, a, h, ,,  , s, i, c, k, e, r,  , t, h, a, n...\n",
       "0    M, e, r, c, y, ,,  , m, e, r, c, y,  , m, e, ....\n",
       "0    L, a, y,  , d, o, w, n, ,,  , l, a, y,  , d, o...\n",
       "0    I, ', l, l,  , b, e,  , w, i, t, h,  , y, o, u...\n",
       "0    I, f,  , I,  , s, a, y,  , I,  , l, o, v, e,  ...\n",
       "0    A, l, l,  , t, h, e,  , s, i, n, g, l, e,  , l...\n",
       "0    D, o,  , i, t, ,,  , d, o,  , i, t, ,,  , y, o...\n",
       "0    Y, o, ,,  , y, o, ,,  , y, o, .,  , T, h, e, y...\n",
       "0    L, e, t, ', s,  , p, o, n, y,  , a, g, a, i, n...\n",
       "0    C, a, l, l,  , h, i, m,  , M, r, .,  , R, a, i...\n",
       "0    Y, e, a, h, ,,  , c, o, m, e,  , o, n, ,,  , M...\n",
       "0    T, r, y,  , m, e, ,,  , t, r, y,  , m, e, ,,  ...\n",
       "0    G, r, e, e, t, i, n, g, s, ,,  , t, h, i, s,  ...\n",
       "0    H, o, m, e,  , i, s,  , w, h, e, r, e,  , I,  ...\n",
       "0    B, u, d, d, a, h,  , b, l, e, s, s,  , t, h, i...\n",
       "0    W, e, l, l, ,,  , I,  , t, r, i, e, d,  , t, o...\n",
       "0    E, a, c, h,  , d, a, y,  , t, h, r, o, u, g, h...\n",
       "0    D, o, n, ', t,  , l, e, t,  , i, t,  , g, e, t...\n",
       "0    I, n,  , a,  , h, a, n, d,  , p, a, i, n, t, e...\n",
       "0    T, h, a, t,  , S, u, n, d, a, y,  , m, o, r, n...\n",
       "0    W, h, a, t, c, h, a,  , g, o, n, n, a,  , d, o...\n",
       "0    W, h, o, ', s,  , g, o, n, n, a,  , w, a, t, e...\n",
       "0    H, e, l, l, o, ,,  , m, a, y,  , I,  , h, a, v...\n",
       "0    W, e, l, l,  , I,  , m, e, t,  , a,  , l, i, t...\n",
       "0    S, w, e, e, t,  , d, r, e, a, m, s,  , o, f,  ...\n",
       "Name: lyrics, Length: 18007, dtype: object"
      ]
     },
     "execution_count": 9,
     "metadata": {},
     "output_type": "execute_result"
    }
   ],
   "source": [
    "lyrics"
   ]
  },
  {
   "cell_type": "code",
   "execution_count": null,
   "metadata": {
    "collapsed": true
   },
   "outputs": [],
   "source": []
  }
 ],
 "metadata": {
  "kernelspec": {
   "display_name": "Python 3",
   "language": "python",
   "name": "python3"
  },
  "language_info": {
   "codemirror_mode": {
    "name": "ipython",
    "version": 3
   },
   "file_extension": ".py",
   "mimetype": "text/x-python",
   "name": "python",
   "nbconvert_exporter": "python",
   "pygments_lexer": "ipython3",
   "version": "3.6.3"
  },
  "varInspector": {
   "cols": {
    "lenName": 16,
    "lenType": 16,
    "lenVar": 40
   },
   "kernels_config": {
    "python": {
     "delete_cmd_postfix": "",
     "delete_cmd_prefix": "del ",
     "library": "var_list.py",
     "varRefreshCmd": "print(var_dic_list())"
    },
    "r": {
     "delete_cmd_postfix": ") ",
     "delete_cmd_prefix": "rm(",
     "library": "var_list.r",
     "varRefreshCmd": "cat(var_dic_list()) "
    }
   },
   "types_to_exclude": [
    "module",
    "function",
    "builtin_function_or_method",
    "instance",
    "_Feature"
   ],
   "window_display": false
  }
 },
 "nbformat": 4,
 "nbformat_minor": 2
}
